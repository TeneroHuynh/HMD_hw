{
 "cells": [
  {
   "cell_type": "markdown",
   "metadata": {},
   "source": [
    "8.1 nam_am_lich"
   ]
  },
  {
   "cell_type": "code",
   "execution_count": 1,
   "metadata": {},
   "outputs": [
    {
     "name": "stdout",
     "output_type": "stream",
     "text": [
      "Năm 2024 âm lịch là năm Giáp Thìn\n"
     ]
    }
   ],
   "source": [
    "nam = int(input(\"Nhập năm: \"))\n",
    "def tinh_can(nam):\n",
    "    if nam%10 == 0:\n",
    "        can = \"Canh\"\n",
    "    if nam%10 == 1:\n",
    "        can = \"Tân\"\n",
    "    if nam%10 == 2:\n",
    "        can = \"Nhâm\"\n",
    "    if nam%10 == 3:\n",
    "        can = \"Quý\"\n",
    "    if nam%10 == 4:\n",
    "        can = \"Giáp\"\n",
    "    if nam%10 == 5:\n",
    "        can = \"Ất\"\n",
    "    if nam%10 == 6:\n",
    "        can = \"Bính\"\n",
    "    if nam%10 == 7:\n",
    "        can = \"Đinh\"\n",
    "    if nam%10 == 8:\n",
    "        can = \"Mậu\"\n",
    "    if nam%10 == 9:\n",
    "        can = \"Kỷ\"\n",
    "    return can\n",
    "def tinh_chi(nam):\n",
    "    if nam %12 == 0:\n",
    "        chi = \"Thân\"\n",
    "    if nam %12 == 1:\n",
    "        chi = \"Dậu\"\n",
    "    if nam %12 == 2:\n",
    "        chi = \"Tuất\"\n",
    "    if nam %12 == 3:\n",
    "        chi = \"Hợi\"\n",
    "    if nam %12 == 4:\n",
    "        chi = \"Tý\"\n",
    "    if nam %12 == 5:\n",
    "        chi = \"Sửu\"\n",
    "    if nam %12 == 6:\n",
    "        chi = \"Dần\"\n",
    "    if nam %12 == 7:\n",
    "        chi = \"Mão\"\n",
    "    if nam %12 == 8:\n",
    "        chi = \"Thìn\"\n",
    "    if nam %12 == 9:\n",
    "        chi = \"Tỵ\"\n",
    "    if nam %12 == 10:\n",
    "        chi = \"Ngọ\"\n",
    "    if nam %12 == 11:\n",
    "        chi = \"Mùi\"\n",
    "    return chi \n",
    "print(f\"Năm {nam} âm lịch là năm\",tinh_can(nam),tinh_chi(nam))\n",
    "\n",
    "\n"
   ]
  },
  {
   "cell_type": "markdown",
   "metadata": {},
   "source": [
    "8.2 Tinh_BMI"
   ]
  },
  {
   "cell_type": "code",
   "execution_count": 4,
   "metadata": {},
   "outputs": [
    {
     "name": "stdout",
     "output_type": "stream",
     "text": [
      "Chỉ số BMI của bạn: 20.312499999999996\n",
      "Kết quả: Bạn bình thường\n"
     ]
    }
   ],
   "source": [
    "can_nang = int(input(\"Nhập cân nặng (kg): \"))\n",
    "chieu_cao = float(input(\"Nhập chiều cao(m): \"))\n",
    "def tinh_bmi (can_nang,chieu_cao):\n",
    "    bmi = can_nang/(chieu_cao*chieu_cao)\n",
    "    return bmi\n",
    "def danh_gia_bmi (bmi):\n",
    "    if bmi <18.5:\n",
    "        print('Kết quả: Bạn gầy')\n",
    "    elif 18.5 <= bmi <= 24.99:\n",
    "        print('Kết quả: Bạn bình thường')\n",
    "    else:\n",
    "        print('Kết quả: Bạn thừa cân')\n",
    "    return\n",
    "print(f'Chỉ số BMI của bạn:',tinh_bmi(can_nang,chieu_cao))\n",
    "danh_gia_bmi(tinh_bmi(can_nang,chieu_cao))"
   ]
  },
  {
   "cell_type": "markdown",
   "metadata": {},
   "source": [
    "8.3.1 Tinh_S_2"
   ]
  },
  {
   "cell_type": "code",
   "execution_count": 5,
   "metadata": {},
   "outputs": [
    {
     "name": "stdout",
     "output_type": "stream",
     "text": [
      "S = (x*x +1)^n =  456976.0\n"
     ]
    }
   ],
   "source": [
    "n = int(input('Nhập n:'))\n",
    "x = float(input('Nhập x:'))\n",
    "def tinh_s(n,x):\n",
    "    S = (x*x + 1)**n\n",
    "    return S\n",
    "print(f'S = (x*x +1)^n = ',tinh_s(n,x))"
   ]
  },
  {
   "cell_type": "markdown",
   "metadata": {},
   "source": [
    "8.3.2 Tinh_A_2"
   ]
  },
  {
   "cell_type": "code",
   "execution_count": 6,
   "metadata": {},
   "outputs": [
    {
     "name": "stdout",
     "output_type": "stream",
     "text": [
      "A = (x2 + x + 1)^n + (x2 - x + 1)^n = 370.0\n"
     ]
    }
   ],
   "source": [
    "n = int(input('Nhập n:'))\n",
    "x = float(input('Nhập x:'))\n",
    "def tinh_A(n,x):\n",
    "    A = (x*x + x + 1)**n + (x*x - x + 1)**n \n",
    "    return A\n",
    "print(f'A = (x2 + x + 1)^n + (x2 - x + 1)^n =',tinh_A(n,x))"
   ]
  },
  {
   "cell_type": "markdown",
   "metadata": {},
   "source": [
    "8.3.3 kiem_tra_snt"
   ]
  },
  {
   "cell_type": "code",
   "execution_count": 10,
   "metadata": {},
   "outputs": [
    {
     "name": "stdout",
     "output_type": "stream",
     "text": [
      "7 là số nguyên tố\n"
     ]
    }
   ],
   "source": [
    "x = int(input('Nhập x:'))\n",
    "def kiem_tra_snt(x):\n",
    "    dem = 0\n",
    "    for i in range(2,x+1):\n",
    "        if x%i == 0:\n",
    "            dem += 1\n",
    "    if dem > 1:\n",
    "        print(f'{x} không là số nguyên tố')\n",
    "    else:\n",
    "        print(f'{x} là số nguyên tố')\n",
    "    return\n",
    "kiem_tra_snt(x)\n"
   ]
  },
  {
   "cell_type": "markdown",
   "metadata": {},
   "source": [
    "8.4.1 7.2_with_def"
   ]
  },
  {
   "cell_type": "code",
   "execution_count": 13,
   "metadata": {},
   "outputs": [
    {
     "name": "stdout",
     "output_type": "stream",
     "text": [
      "List:  [10, 5, -2, 23, 5, 6, 7]\n",
      "Tổng giá trị trong list: 54\n"
     ]
    }
   ],
   "source": [
    "Lst = []\n",
    "def them_vao_list(Lst):\n",
    "    a = int(input('Nhập giá trị:'))\n",
    "    Lst.append(a)\n",
    "    b = int(input('Tiếp tục nhập giá trị? 1: Có, 2: Không'))\n",
    "    while b == 1:\n",
    "        a = int(input('Nhập giá trị:'))\n",
    "        Lst.append(a)\n",
    "        b = int(input('Tiếp tục nhập giá trị? 1: Có, 2: Không'))\n",
    "    return Lst\n",
    "def tinh_tong_list(Lst):\n",
    "    tong_list = 0\n",
    "    for i in Lst:\n",
    "        tong_list += i\n",
    "    return tong_list\n",
    "print(\"List: \",them_vao_list(Lst))\n",
    "print('Tổng giá trị trong list:',tinh_tong_list(Lst))\n",
    "    "
   ]
  },
  {
   "cell_type": "markdown",
   "metadata": {},
   "source": [
    "8.4.2 7.4_with_def"
   ]
  },
  {
   "cell_type": "code",
   "execution_count": 17,
   "metadata": {},
   "outputs": [
    {
     "name": "stdout",
     "output_type": "stream",
     "text": [
      "haha xuất hiện trong tuple 0 lần\n"
     ]
    }
   ],
   "source": [
    "Tpl = ('red', 'green', 'yellow', 'blue', 'black','white', 'pink', 'orange', 'red', 'blue')\n",
    "chuoi = input('Nhập chuỗi cần tìm:')\n",
    "def dem_slxh(Tuple_original, x):\n",
    "    dem = Tuple_original.count(x)\n",
    "    return dem\n",
    "print(f'{chuoi} xuất hiện trong tuple {dem_slxh(Tpl,chuoi)} lần')"
   ]
  },
  {
   "cell_type": "markdown",
   "metadata": {},
   "source": [
    "8.4.3 7.6_with_def"
   ]
  },
  {
   "cell_type": "code",
   "execution_count": 24,
   "metadata": {},
   "outputs": [],
   "source": [
    "danhba = {\"Johnny\": \"0989741258\",\"Katherine\": \"0903852147\",\"Misu\": \"0913753951\" ,\"Jack\": \"0933753654\"}\n",
    "search = input('Nhập key search:')\n",
    "key = input('Nhập key để thêm:')\n",
    "value = input('Nhập value thêm:')\n",
    "def in_dictionary(dictionary):\n",
    "    print(\"name, phone_number\")\n",
    "    for i in dictionary.items():\n",
    "        print(i)\n",
    "    return\n",
    "def tim_kiem_dictionary(dictionary,key_search):\n",
    "    if key_search in dictionary.keys():\n",
    "        print(dictionary.items())\n",
    "    else:\n",
    "        print('Không tìm thấy keysearch')\n",
    "def them_dictionary(dictionary,key_insert,value_insert):\n",
    "    dictionary[key_insert] = value_insert\n",
    "    print('New dictionary')\n",
    "\n"
   ]
  },
  {
   "cell_type": "markdown",
   "metadata": {},
   "source": [
    "8.5 su_dung_lambda"
   ]
  },
  {
   "cell_type": "code",
   "execution_count": 25,
   "metadata": {},
   "outputs": [
    {
     "name": "stdout",
     "output_type": "stream",
     "text": [
      "Diện tích hình tròn: 12.56\n",
      "Chu vi hình tròn: 12.56\n",
      "Diện tích hình chữ nhật: 12\n",
      "Chu vi hình chữ nhật: 14\n"
     ]
    }
   ],
   "source": [
    "r = int(input('Nhập bấn kính:'))\n",
    "a = int(input('Nhập chiều dài:'))\n",
    "b = int(input('Nhập chiều rộng:'))\n",
    "s_tron = lambda r: 3.14*r*r\n",
    "p_tron = lambda r: 2*3.14*r\n",
    "s_hinh_chu_nhat = lambda a,b: a*b\n",
    "p_hinh_chu_nhat = lambda a,b: 2*(a+b)\n",
    "print(f'Diện tích hình tròn: {s_tron(r)}')\n",
    "print(f'Chu vi hình tròn: {p_tron(r)}')\n",
    "print(f'Diện tích hình chữ nhật: {s_hinh_chu_nhat(a,b)}')\n",
    "print(f'Chu vi hình chữ nhật: {p_hinh_chu_nhat(a,b)}')\n"
   ]
  }
 ],
 "metadata": {
  "kernelspec": {
   "display_name": "Python 3",
   "language": "python",
   "name": "python3"
  },
  "language_info": {
   "codemirror_mode": {
    "name": "ipython",
    "version": 3
   },
   "file_extension": ".py",
   "mimetype": "text/x-python",
   "name": "python",
   "nbconvert_exporter": "python",
   "pygments_lexer": "ipython3",
   "version": "3.12.2"
  }
 },
 "nbformat": 4,
 "nbformat_minor": 2
}
