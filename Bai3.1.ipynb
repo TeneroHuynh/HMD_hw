{
 "cells": [
  {
   "cell_type": "markdown",
   "metadata": {},
   "source": [
    "3.1 tinh_bieu_thuc"
   ]
  },
  {
   "cell_type": "code",
   "execution_count": null,
   "metadata": {},
   "outputs": [],
   "source": [
    "x = int(input(\"Nhập x:\"))\n",
    "S = 1 + x + x**3/3 + x**5/5\n",
    "print(\"S = 1 + x + x**3/3 + x**5/5 \", S)"
   ]
  },
  {
   "cell_type": "markdown",
   "metadata": {},
   "source": [
    "3.2 tinh_ket_qua_2"
   ]
  },
  {
   "cell_type": "code",
   "execution_count": null,
   "metadata": {},
   "outputs": [],
   "source": [
    "result = 1 +2 \n",
    "print('result =', result)\n",
    "original_result = result\n",
    "result = result -1 \n",
    "print('result =', result)\n",
    "original_result = result\n",
    "result = result * 2\n",
    "original_result = result\n",
    "print('result =', result)\n",
    "result = result ** 3\n",
    "original_result = result\n",
    "print('result =', result)\n",
    "result = result + 8\n",
    "original_result = result\n",
    "print('result =', result)\n",
    "result = result % 7\n",
    "original_result = result\n",
    "print('result =', result)\n",
    "result = result // 2\n",
    "original_result = result\n",
    "print('result =', result)"
   ]
  }
 ],
 "metadata": {
  "language_info": {
   "name": "python"
  }
 },
 "nbformat": 4,
 "nbformat_minor": 2
}
