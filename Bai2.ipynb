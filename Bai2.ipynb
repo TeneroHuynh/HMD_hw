{
 "cells": [
  {
   "cell_type": "markdown",
   "metadata": {},
   "source": [
    "2.1 tinh tien hang"
   ]
  },
  {
   "cell_type": "code",
   "execution_count": null,
   "metadata": {},
   "outputs": [
    {
     "name": "stdout",
     "output_type": "stream",
     "text": [
      "Thành tiền = a * b = 500000\n"
     ]
    }
   ],
   "source": [
    "qty = input(\"Nhập số lượng:\")\n",
    "price = input(\"Nhập đơn giá:\")\n",
    "print(\"Thành tiền = qty * price =\", int(a) * int(b))"
   ]
  },
  {
   "cell_type": "markdown",
   "metadata": {},
   "source": [
    "2.2 doi nhiet do"
   ]
  },
  {
   "cell_type": "code",
   "execution_count": 5,
   "metadata": {},
   "outputs": [
    {
     "name": "stdout",
     "output_type": "stream",
     "text": [
      "27.0 độ C = 80.6 độ F\n"
     ]
    }
   ],
   "source": [
    "do_c = float(input(\"Nhập độ C: \"))\n",
    "print(f'{do_c} độ C = {do_c * 9 / 5 + 32} độ F')"
   ]
  },
  {
   "cell_type": "markdown",
   "metadata": {},
   "source": [
    "2.3 tinh_p_s_hinh_tron"
   ]
  },
  {
   "cell_type": "code",
   "execution_count": 6,
   "metadata": {},
   "outputs": [
    {
     "name": "stdout",
     "output_type": "stream",
     "text": [
      "Chu vi = 18.84\n",
      "Diện tích = 28.26\n"
     ]
    }
   ],
   "source": [
    "bankinh = float(input(\"Nhập bán kính: \"))\n",
    "print(f'Chu vi = {2 * 3.14 * bankinh}')\n",
    "print(f'Diện tích = {3.14 * bankinh ** 2}')"
   ]
  },
  {
   "cell_type": "markdown",
   "metadata": {},
   "source": [
    "2.4 xu ly chuoi "
   ]
  },
  {
   "cell_type": "code",
   "execution_count": 3,
   "metadata": {},
   "outputs": [
    {
     "name": "stdout",
     "output_type": "stream",
     "text": [
      "chiều dài chuỗi s1 = 5\n",
      "chiều dài chuỗi s2 = 6\n",
      "chiều dài chuỗi s3 = 20\n",
      "chuỗi s4 = llo\n",
      "chuỗi s2 lặp lại 2 lần =  PythonPython\n"
     ]
    }
   ],
   "source": [
    "s1 = input(\"Nhập chuỗi s1: \")\n",
    "s2 = input(\"Nhập chuỗi s2: \")\n",
    "s3 = input(\"Nhập chuỗi s3: \")\n",
    "index = int(input(\"Nhập index: \"))\n",
    "print(f'chiều dài chuỗi s1 = {len(s1)}')\n",
    "print(f'chiều dài chuỗi s2 = {len(s2)}')\n",
    "print(f'chiều dài chuỗi s3 = {len(s3)}')\n",
    "print('chuỗi s4 =', s1[index:])\n",
    "print('chuỗi s2 lặp lại 2 lần = ', s2 * 2)"
   ]
  },
  {
   "cell_type": "markdown",
   "metadata": {},
   "source": [
    "2.5 "
   ]
  }
 ],
 "metadata": {
  "kernelspec": {
   "display_name": "Python 3",
   "language": "python",
   "name": "python3"
  },
  "language_info": {
   "codemirror_mode": {
    "name": "ipython",
    "version": 3
   },
   "file_extension": ".py",
   "mimetype": "text/x-python",
   "name": "python",
   "nbconvert_exporter": "python",
   "pygments_lexer": "ipython3",
   "version": "3.12.2"
  }
 },
 "nbformat": 4,
 "nbformat_minor": 2
}
