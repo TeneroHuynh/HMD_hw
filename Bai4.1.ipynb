{
 "cells": [
  {
   "cell_type": "markdown",
   "metadata": {},
   "source": [
    "4.1 Tim_min_max"
   ]
  },
  {
   "cell_type": "code",
   "execution_count": null,
   "metadata": {},
   "outputs": [
    {
     "name": "stdout",
     "output_type": "stream",
     "text": [
      "max =  24\n",
      "min =  3\n"
     ]
    }
   ],
   "source": [
    "a = int(input('Nhập a: '))\n",
    "b = int(input('Nhập b: '))\n",
    "c = int(input('Nhập c: '))\n",
    "d = int(input('Nhập d: '))\n",
    "max = a\n",
    "min = a\n",
    "if b > max:\n",
    "    max = b\n",
    "if c > max:\n",
    "    max = c\n",
    "if d > max:\n",
    "    max = d\n",
    "if b < min:\n",
    "    min = b\n",
    "if c < min:\n",
    "    min = c\n",
    "if d < min:\n",
    "    min = d\n",
    "print('max = ',max)\n",
    "print('min = ',min)\n"
   ]
  },
  {
   "cell_type": "markdown",
   "metadata": {},
   "source": [
    "4.2 tim_gttd_x"
   ]
  },
  {
   "cell_type": "code",
   "execution_count": null,
   "metadata": {},
   "outputs": [
    {
     "name": "stdout",
     "output_type": "stream",
     "text": [
      "|x| =  3\n"
     ]
    }
   ],
   "source": [
    "x = int(input('Nhập x: '))\n",
    "if x >= 0:\n",
    "    print('|x| = ',x)\n",
    "else:\n",
    "    print('|x| = ', -x)\n"
   ]
  },
  {
   "cell_type": "markdown",
   "metadata": {},
   "source": [
    "4.3 tinh_cuoc_taxi "
   ]
  },
  {
   "cell_type": "code",
   "execution_count": null,
   "metadata": {},
   "outputs": [
    {
     "name": "stdout",
     "output_type": "stream",
     "text": [
      "Tiền cước =  163870.0\n"
     ]
    }
   ],
   "source": [
    "loai_xe = input('Nhập loại xe: (chỉ nhập 4 hoặc 7) ')\n",
    "so_km = float(input('Số km di chuyển: '))\n",
    "tg_cho = int(input('Thời gian chờ: '))\n",
    "if tg_cho > 5:\n",
    "    tien_cho = (tg_cho-5) * 750\n",
    "else:\n",
    "    tien_cho = 0\n",
    "if loai_xe == '4':\n",
    "    if so_km <= 0.8:\n",
    "        tien_di_chuyen = 11000\n",
    "    elif so_km <= 30:\n",
    "        tien_di_chuyen = 11000 + (so_km-0.8)*15300\n",
    "    else:\n",
    "        tien_di_chuyen = 11000 + 29.2*15300 + (so_km-30)*12100\n",
    "elif loai_xe == '7':\n",
    "    if so_km <= 0.8:\n",
    "        tien_di_chuyen = 12000\n",
    "    elif so_km <= 30:\n",
    "        tien_di_chuyen = 12000 + (so_km-0.8)*16100\n",
    "    else:\n",
    "        tien_di_chuyen = 12000 + 29.2*16100 + (so_km-30)*13800\n",
    "print('Tiền cước = ', tien_di_chuyen + tien_cho)\n"
   ]
  },
  {
   "cell_type": "markdown",
   "metadata": {},
   "source": [
    "4.4 tinh_tien_dien"
   ]
  },
  {
   "cell_type": "code",
   "execution_count": null,
   "metadata": {},
   "outputs": [
    {
     "name": "stdout",
     "output_type": "stream",
     "text": [
      "Tiền điện phải trả =  553650\n"
     ]
    }
   ],
   "source": [
    "kw = int(input('Nhập số kw tiêu thụ: '))\n",
    "if kw <= 50:\n",
    "    tien = kw * 1484\n",
    "elif kw <= 100:\n",
    "    tien = 50*1484 + (kw-50)*1533\n",
    "elif kw <= 200:\n",
    "    tien = 50*1484 + 50*1533 + (kw-100)*1786\n",
    "elif kw <= 300:\n",
    "    tien = 50*1484 + 50*1533 + 100*1786 + (kw-200)*2242\n",
    "elif kw <= 400:\n",
    "    tien = 50*1484 + 50*1533 + 100*1786 + 100*2242 + (kw-300)*2503\n",
    "else:\n",
    "    tien = 50*1484 + 50*1533 + 100*1786 + 100*2242 + 100*2503 + (kw-400)*2587\n",
    "print('Tiền điện phải trả = ',tien)"
   ]
  },
  {
   "cell_type": "markdown",
   "metadata": {},
   "source": [
    "4.5 tinh_tien_thue_phong"
   ]
  },
  {
   "cell_type": "code",
   "execution_count": null,
   "metadata": {},
   "outputs": [
    {
     "name": "stdout",
     "output_type": "stream",
     "text": [
      "Tiền phải trả =  2745000.0\n"
     ]
    }
   ],
   "source": [
    "loai_phong = input('Nhập loại phòng: (từ 1 đến 8) ')\n",
    "so_dem = int(input('Số đêm ở: '))\n",
    "if so_dem == 1:\n",
    "    if loai_phong == '1':\n",
    "        tien = 1260000\n",
    "    elif loai_phong == '2':\n",
    "        tien = 1550000\n",
    "    elif loai_phong == '3':\n",
    "        tien = 1830000\n",
    "    elif loai_phong == '4':\n",
    "        tien = 1830000\n",
    "    elif loai_phong == '5':\n",
    "        tien = 2120000\n",
    "    elif loai_phong == '6':\n",
    "        tien = 2120000\n",
    "    elif loai_phong == '7':\n",
    "        tien = 2540000\n",
    "    elif loai_phong == '8':\n",
    "        tien = 4800000\n",
    "elif 1<so_dem < 4:\n",
    "    if loai_phong == '1':\n",
    "        tien = so_dem*1260000*0.75\n",
    "    elif loai_phong == '2':\n",
    "        tien = so_dem*1550000*0.75\n",
    "    elif loai_phong == '3':\n",
    "        tien = so_dem*1830000*0.75\n",
    "    elif loai_phong == '4':\n",
    "        tien = so_dem*1830000*0.75\n",
    "    elif loai_phong == '5':\n",
    "        tien = so_dem*2120000*0.75\n",
    "    elif loai_phong == '6':\n",
    "        tien = so_dem*2120000*0.75\n",
    "    elif loai_phong == '7':\n",
    "        tien = so_dem*2540000*0.75\n",
    "    elif loai_phong == '8':\n",
    "        tien = so_dem*4800000*0.75\n",
    "else:\n",
    "    if loai_phong == '1':\n",
    "        tien = so_dem*1260000*0.7\n",
    "    elif loai_phong == '2':\n",
    "        tien = so_dem*1550000*0.7\n",
    "    elif loai_phong == '3':\n",
    "        tien = so_dem*1830000*0.7\n",
    "    elif loai_phong == '4':\n",
    "        tien = so_dem*1830000*0.7\n",
    "    elif loai_phong == '5':\n",
    "        tien = so_dem*2120000*0.7\n",
    "    elif loai_phong == '6':\n",
    "        tien = so_dem*2120000*0.7\n",
    "    elif loai_phong == '7':\n",
    "        tien = so_dem*2540000*0.7\n",
    "    elif loai_phong == '8':\n",
    "        tien = so_dem*4800000*0.7\n",
    "print('Tiền phải trả = ',tien)"
   ]
  }
 ],
 "metadata": {
  "language_info": {
   "name": "python"
  }
 },
 "nbformat": 4,
 "nbformat_minor": 2
}
