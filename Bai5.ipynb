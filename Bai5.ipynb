{
 "cells": [
  {
   "cell_type": "markdown",
   "metadata": {},
   "source": [
    "5.1 count_down"
   ]
  },
  {
   "cell_type": "code",
   "execution_count": 2,
   "metadata": {},
   "outputs": [
    {
     "name": "stdout",
     "output_type": "stream",
     "text": [
      "10\n",
      "9\n",
      "8\n",
      "7\n",
      "6\n",
      "5\n",
      "4\n",
      "3\n",
      "2\n",
      "1\n",
      "Start!!!\n"
     ]
    }
   ],
   "source": [
    "n = int(input())\n",
    "for i in range(n,0,-1):\n",
    "    print(i)\n",
    "print('Start!!!')"
   ]
  },
  {
   "cell_type": "markdown",
   "metadata": {},
   "source": [
    "5.2 tinh_S"
   ]
  },
  {
   "cell_type": "code",
   "execution_count": 3,
   "metadata": {},
   "outputs": [
    {
     "name": "stdout",
     "output_type": "stream",
     "text": [
      "S =  456976\n"
     ]
    }
   ],
   "source": [
    "n = int(input('Nhập n'))\n",
    "x = int(input('Nhập x'))\n",
    "S = 1\n",
    "for i in range(n):\n",
    "    S *= x**2 + 1\n",
    "print('S = ',S)\n",
    " "
   ]
  },
  {
   "cell_type": "markdown",
   "metadata": {},
   "source": [
    "5.3 Tinh_A"
   ]
  },
  {
   "cell_type": "code",
   "execution_count": 4,
   "metadata": {},
   "outputs": [
    {
     "name": "stdout",
     "output_type": "stream",
     "text": [
      "A =  370\n"
     ]
    }
   ],
   "source": [
    "n = int(input('Nhập n'))\n",
    "x = int(input('Nhập x'))\n",
    "a =1\n",
    "b =1\n",
    "for i in range(n):\n",
    "    a *= x**2 + x + 1\n",
    "for i in range(n):\n",
    "    b *= x**2 - x + 1\n",
    "print('A = ', a+b)"
   ]
  },
  {
   "cell_type": "markdown",
   "metadata": {},
   "source": [
    "5.4 kiem_tra_snt"
   ]
  },
  {
   "cell_type": "code",
   "execution_count": 9,
   "metadata": {},
   "outputs": [
    {
     "name": "stdout",
     "output_type": "stream",
     "text": [
      "5 Là số nguyên tố\n"
     ]
    }
   ],
   "source": [
    "x = int(input('Nhập x'))\n",
    "k = 0\n",
    "for i in range(2,x+1):\n",
    "    if x % i == 0:\n",
    "        k+= 1\n",
    "if k >1:\n",
    "    print(f'{x} Không phải số nguyên tố')\n",
    "else:\n",
    "    print(f'{x} Là số nguyên tố')"
   ]
  },
  {
   "cell_type": "markdown",
   "metadata": {},
   "source": [
    "5.5 tinh_gtbt"
   ]
  },
  {
   "cell_type": "code",
   "execution_count": 11,
   "metadata": {},
   "outputs": [
    {
     "name": "stdout",
     "output_type": "stream",
     "text": [
      "Tổng số lẻ =  4\n",
      "Tổng số chẵn =  6\n",
      "Tích =  24\n",
      "Tích các số chia hết cho 3 =  3\n",
      "Tổng các số nguyên tố =  5\n"
     ]
    }
   ],
   "source": [
    "n = int(input('Nhập n'))\n",
    "S_le = 0\n",
    "S_chan = 0\n",
    "tich = 1\n",
    "tich_chia_het_3 = 1\n",
    "tong_so_nguyen_to = 0\n",
    "for i in range(1,n+1):\n",
    "    if i % 2 != 0:\n",
    "        S_le += i\n",
    "    else:\n",
    "        S_chan += i\n",
    "    tich *= i\n",
    "    if i % 3 == 0:\n",
    "        tich_chia_het_3 *= i\n",
    "    k = 0\n",
    "    for j in range(2,i+1):\n",
    "        if i % j == 0:\n",
    "            k += 1\n",
    "    if k == 1:\n",
    "        tong_so_nguyen_to += i\n",
    "print('Tổng số lẻ = ',S_le)\n",
    "print('Tổng số chẵn = ',S_chan)\n",
    "print('Tích = ',tich)\n",
    "print('Tích các số chia hết cho 3 = ',tich_chia_het_3)\n",
    "print('Tổng các số nguyên tố = ', tong_so_nguyen_to)"
   ]
  }
 ],
 "metadata": {
  "kernelspec": {
   "display_name": "Python 3",
   "language": "python",
   "name": "python3"
  },
  "language_info": {
   "codemirror_mode": {
    "name": "ipython",
    "version": 3
   },
   "file_extension": ".py",
   "mimetype": "text/x-python",
   "name": "python",
   "nbconvert_exporter": "python",
   "pygments_lexer": "ipython3",
   "version": "3.12.2"
  }
 },
 "nbformat": 4,
 "nbformat_minor": 2
}
