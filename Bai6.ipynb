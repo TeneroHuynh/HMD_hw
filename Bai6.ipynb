{
 "cells": [
  {
   "cell_type": "markdown",
   "metadata": {},
   "source": [
    "6.1 tim_min_max_2"
   ]
  },
  {
   "cell_type": "code",
   "execution_count": 5,
   "metadata": {},
   "outputs": [
    {
     "name": "stdout",
     "output_type": "stream",
     "text": [
      "max =  7\n",
      "min =  2\n"
     ]
    }
   ],
   "source": [
    "a,b,c,d = input(\"Nhập a,b,c,d trên cùng dòng (k enter)\").split()\n",
    "print(\"max = \",max(a,b,c,d))\n",
    "print(\"min = \",min(a,b,c,d))\n"
   ]
  },
  {
   "cell_type": "markdown",
   "metadata": {},
   "source": [
    "6.2 tim_gttd_2"
   ]
  },
  {
   "cell_type": "code",
   "execution_count": 7,
   "metadata": {},
   "outputs": [
    {
     "name": "stdout",
     "output_type": "stream",
     "text": [
      "|-4| =  4\n"
     ]
    }
   ],
   "source": [
    "x = int(input(\"Nhập x: \"))\n",
    "print(f\"|{x}| = \",abs(x))"
   ]
  },
  {
   "cell_type": "markdown",
   "metadata": {},
   "source": [
    "6.3 tinh_S_2"
   ]
  },
  {
   "cell_type": "code",
   "execution_count": 12,
   "metadata": {},
   "outputs": [
    {
     "name": "stdout",
     "output_type": "stream",
     "text": [
      "S = (2^2 + 1 ) ^ 3  125.0\n"
     ]
    }
   ],
   "source": [
    "import math \n",
    "x = int(input(\"Nhập x: \"))\n",
    "n = int(input(\"Nhập n: \"))\n",
    "print(f\"S = ({x}^2 + 1 ) ^ {n} \",math.pow(x*x+1,n))"
   ]
  },
  {
   "cell_type": "markdown",
   "metadata": {},
   "source": [
    "6.4 tinh_A_2"
   ]
  },
  {
   "cell_type": "code",
   "execution_count": 15,
   "metadata": {},
   "outputs": [
    {
     "name": "stdout",
     "output_type": "stream",
     "text": [
      "x = 2, n = 3\n",
      "A = (x^2 + x + 1)^n + (x^2 - x + 1)^n\n",
      "A =  370.0\n"
     ]
    }
   ],
   "source": [
    "import math\n",
    "x = int(input(\"Nhập x: \"))\n",
    "n = int(input(\"Nhập n: \"))\n",
    "print(f\"x = {x}, n = {n}\")\n",
    "print(\"A = (x^2 + x + 1)^n + (x^2 - x + 1)^n\")\n",
    "print(\"A = \",math.pow(x*x + x + 1,n) + math.pow(x*x - x + 1,n))\n"
   ]
  },
  {
   "cell_type": "markdown",
   "metadata": {},
   "source": [
    "6.5 giai_PT_bac_@"
   ]
  },
  {
   "cell_type": "code",
   "execution_count": 37,
   "metadata": {},
   "outputs": [
    {
     "name": "stdout",
     "output_type": "stream",
     "text": [
      "Phương trình có nghiệm kép x1 = x2 =  4.0\n"
     ]
    }
   ],
   "source": [
    "a = float(input(\"Nhập a: \"))\n",
    "b = float(input(\"Nhập b: \"))\n",
    "c = float(input(\"Nhập c: \"))\n",
    "if a == 0:\n",
    "    print(\"Phương trình bậc 2 suy biến thành phương trình bậc 1 nghiệm x = \", -c/b)\n",
    "else:\n",
    "    delta = b**2 - 4*a*c\n",
    "    if delta == 0:\n",
    "        print(\"Phương trình có nghiệm kép x1 = x2 = \",-b / 2*a)\n",
    "    elif delta > 0:\n",
    "        print(f\"Phương trình có 2 nghiệm riêng biệt x1 = {(-b-math.sqrt(delta))/ (2*a)} và x2 = {(-b+math.sqrt(delta))/(2*a)}\")\n",
    "    else:\n",
    "        print(\"Phương trình vô nghiệm\") "
   ]
  },
  {
   "cell_type": "markdown",
   "metadata": {},
   "source": [
    "6.6 xu_ly_chuoi"
   ]
  },
  {
   "cell_type": "code",
   "execution_count": 41,
   "metadata": {},
   "outputs": [
    {
     "name": "stdout",
     "output_type": "stream",
     "text": [
      "Chuỗi s:  a b c d e f duck \n",
      "Chuỗi s sau khi loại bỏ khoảng trắng đầu và cuối: a b c d e f duck\n",
      "Chuỗi viết hoa ký tự đầu:  a b c d e f duck \n",
      "Số lần s_sub xuất hiện trong s: 2\n",
      "Chuỗi s sau khi tìm kiếm và thay thế:  a b c d e f dog \n"
     ]
    }
   ],
   "source": [
    "import string \n",
    "s = input(\"Nhập chuỗi s: \")\n",
    "s_sub = input(\"Nhập chuỗi con s sub: \")\n",
    "s_find = input(\"Nhập s_find: \")\n",
    "s_raplace = input(\"Nhập s_replace: \")\n",
    "print(\"Chuỗi s:\",s)\n",
    "print(\"Chuỗi s sau khi loại bỏ khoảng trắng đầu và cuối:\", s.strip())\n",
    "print(\"Chuỗi viết hoa ký tự đầu:\", s.capitalize())\n",
    "print(\"Số lần s_sub xuất hiện trong s:\",s.count(s_sub))\n",
    "print(\"Chuỗi s sau khi tìm kiếm và thay thế:\", s.replace(s_find,s_raplace))\n",
    "\n"
   ]
  },
  {
   "cell_type": "markdown",
   "metadata": {},
   "source": [
    "6.7 xu_ly_thoi_gian"
   ]
  },
  {
   "cell_type": "code",
   "execution_count": 57,
   "metadata": {},
   "outputs": [
    {
     "name": "stdout",
     "output_type": "stream",
     "text": [
      "Ngày tháng năm vừa nhập là:  09 - 01 - 2025 \n",
      "Năm 2025 không phải là năm nhuận\n",
      "09 - 01 - 2025  là Thursday\n"
     ]
    }
   ],
   "source": [
    "from datetime import datetime\n",
    "ngay = int(input(\"Nhập ngày:\"))\n",
    "thang = int(input(\"Nhập tháng:\"))\n",
    "nam = int(input(\"Nhập năm:\"))\n",
    "date2 = datetime(nam,thang,ngay)\n",
    "print(\"Ngày tháng năm vừa nhập là: \", date2.strftime(\"%d - %m - %Y \"))\n",
    "if nam % 4 == 0 and nam %100 != 0:\n",
    "    print(f\"Năm {nam} là năm nhuận\")\n",
    "else:\n",
    "    if nam% 400 == 0:\n",
    "        print(f\"Năm {nam} là năm nhuận\")\n",
    "    else:\n",
    "        print(f\"Năm {nam} không phải là năm nhuận\")\n",
    "print(f\"{date2.strftime(\"%d - %m - %Y \")} là {date2.strftime(\"%A\")}\")\n"
   ]
  }
 ],
 "metadata": {
  "kernelspec": {
   "display_name": "Python 3",
   "language": "python",
   "name": "python3"
  },
  "language_info": {
   "codemirror_mode": {
    "name": "ipython",
    "version": 3
   },
   "file_extension": ".py",
   "mimetype": "text/x-python",
   "name": "python",
   "nbconvert_exporter": "python",
   "pygments_lexer": "ipython3",
   "version": "3.12.2"
  }
 },
 "nbformat": 4,
 "nbformat_minor": 2
}
