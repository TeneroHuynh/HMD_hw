{
 "cells": [
  {
   "cell_type": "markdown",
   "metadata": {},
   "source": [
    "7.1 list_of_animals"
   ]
  },
  {
   "cell_type": "code",
   "execution_count": 1,
   "metadata": {},
   "outputs": [
    {
     "name": "stdout",
     "output_type": "stream",
     "text": [
      "List of animals:  ['ant', 'bear', 'cat', 'dog', 'elephant', 'fish', 'goat', 'hippo']\n",
      "There is dog in list of animals\n"
     ]
    }
   ],
   "source": [
    "List_of_animals =['ant', 'bear', 'cat', 'dog', 'elephant', 'fish', 'goat', 'hippo']\n",
    "print(\"List of animals: \", List_of_animals)\n",
    "find = input(\"I want to find:\")\n",
    "if find in List_of_animals:\n",
    "    print(f\"There is {find} in list of animals\")\n",
    "else:\n",
    "    print(f\"{find} is not in list of animals\")"
   ]
  },
  {
   "cell_type": "markdown",
   "metadata": {},
   "source": [
    "7.2 list_numbers_1"
   ]
  },
  {
   "cell_type": "code",
   "execution_count": 18,
   "metadata": {},
   "outputs": [
    {
     "name": "stdout",
     "output_type": "stream",
     "text": [
      "List:  [10, 5, -2, 23, 5, 6, 7]\n",
      "Tổng các giá trị trong list:  54\n",
      "5 xuất hiện 2 lần trong list\n",
      "5 không lớn hơn tất cả các số trong list\n",
      "Các số lớn hơn 5 trong list là:  [10, 23, 6, 7]\n"
     ]
    }
   ],
   "source": [
    "Lst = []\n",
    "S = 0\n",
    "list_greater_than_find = []\n",
    "Lst.append(int(input(\"Nhập giá trị\")))\n",
    "a = int(input(\"Tiếp tục nhập giá trị? 1: Có, 0: Không\"))\n",
    "while a == 1:\n",
    "    nhap1 = int(input(\"Nhập giá trị: \"))\n",
    "    Lst.append(nhap1)\n",
    "    a = int(input(\"Tiếp tục nhập giá trị? 1: Có, 0: 0\"))\n",
    "find = int(input(\"Nhập giá trị cần tìm: \"))\n",
    "print(\"List: \", Lst)\n",
    "for i in Lst:\n",
    "    S += i\n",
    "    if i > find:\n",
    "        list_greater_than_find.append(i)\n",
    "print(\"Tổng các giá trị trong list: \", S)\n",
    "print(f\"{find} xuất hiện {Lst.count(find)} lần trong list\")\n",
    "if find > max(Lst):\n",
    "    print(f\"{find} lớn hơn tất cả các số trong list\")\n",
    "else:\n",
    "    print(f\"{find} không lớn hơn tất cả các số trong list\")\n",
    "print(F\"Các số lớn hơn {find} trong list là: \", list_greater_than_find)\n"
   ]
  },
  {
   "cell_type": "markdown",
   "metadata": {},
   "source": [
    "7.3 list_number_2"
   ]
  },
  {
   "cell_type": "code",
   "execution_count": 33,
   "metadata": {},
   "outputs": [
    {
     "name": "stdout",
     "output_type": "stream",
     "text": [
      "List:  [1, -3, 2, 8, -4, 7]\n",
      "Các số nguyen tố trong list:  [2, 7]\n",
      "Các phần tử âm trong list:  [-3, -4]\n",
      "Trung bình cộng các phần tử ẩm:  -3.5\n",
      "Các phần tử dương trong list:  [1, 2, 8, 7]\n",
      "Trung bình cộng các phần tử dương:  4.5\n",
      "Giá trị max trong list 8\n",
      "Giá trị min trong list -4\n",
      "List sắp tăng dần:  [-4, -3, 1, 2, 7, 8]\n"
     ]
    }
   ],
   "source": [
    "Lst = []\n",
    "snt = []\n",
    "so_am = []\n",
    "so_duong = []\n",
    "Lst.append(int(input(\"Nhập giá trị\")))\n",
    "a = int(input(\"Tiếp tục nhập giá trị? 1: Có, 0: Không\"))\n",
    "while a == 1:\n",
    "    nhap1 = int(input(\"Nhập giá trị: \"))\n",
    "    Lst.append(nhap1)\n",
    "    a = int(input(\"Tiếp tục nhập giá trị? 1: Có, 0: 0\"))\n",
    "print(\"List: \",Lst)\n",
    "for i in Lst:\n",
    "    dem = 0\n",
    "    if i > 0:\n",
    "        so_duong.append(i)      \n",
    "        if i>1:\n",
    "            for k in range(2,i+1):\n",
    "                if i%k == 2:\n",
    "                    dem += 1\n",
    "            if dem < 2:\n",
    "                snt.append(i)\n",
    "    elif i < 0:\n",
    "        so_am.append(i)\n",
    "print(\"Các số nguyen tố trong list: \", snt)\n",
    "print(\"Các phần tử âm trong list: \", so_am)\n",
    "s=0\n",
    "dem1=0\n",
    "for u in so_am:\n",
    "    dem1 += 1\n",
    "    s+=u\n",
    "print(\"Trung bình cộng các phần tử ẩm: \",s/dem1)\n",
    "print(\"Các phần tử dương trong list: \",so_duong)\n",
    "s1 = 0\n",
    "dem2 = 0\n",
    "for u1 in so_duong:\n",
    "    dem2 += 1\n",
    "    s1 += u1\n",
    "print(\"Trung bình cộng các phần tử dương: \",s1/dem2)\n",
    "print(\"Giá trị max trong list\", max(Lst))\n",
    "print(\"Giá trị min trong list\", min(Lst))\n",
    "Lst.sort()\n",
    "print(\"List sắp tăng dần: \",Lst)\n",
    "\n",
    "\n",
    "\n",
    "\n"
   ]
  },
  {
   "cell_type": "markdown",
   "metadata": {},
   "source": [
    "7.4 tuple_strings"
   ]
  },
  {
   "cell_type": "code",
   "execution_count": 36,
   "metadata": {},
   "outputs": [
    {
     "name": "stdout",
     "output_type": "stream",
     "text": [
      "Tuple:  ('red', 'green', 'yellow', 'blue', 'black', 'white', 'pink', 'orange', 'red', 'blue')\n",
      "Tuple[ 2 ] = yellow\n",
      "Tuple[ -2 ] = red\n",
      "blue xuất hiện trong tuple 2 lần\n"
     ]
    }
   ],
   "source": [
    "Tpl = ('red', 'green', 'yellow', 'blue', 'black', 'white', 'pink', 'orange', 'red', 'blue')\n",
    "num1 = int(input(\"Nhập số từ 0 đến 9: \"))\n",
    "num2 = int(input(\"Nhập số từ -1 đến -9: \"))\n",
    "find = input(\"Nhập chuỗi cần tìm: \")\n",
    "print(\"Tuple: \",Tpl)\n",
    "print(f\"Tuple[ {num1} ] =\", Tpl[num1])\n",
    "print(f\"Tuple[ {num2} ] =\", Tpl[num2])\n",
    "print(f\"{find} xuất hiện trong tuple {Tpl.count(find)} lần\")"
   ]
  },
  {
   "cell_type": "markdown",
   "metadata": {},
   "source": [
    "7.5 tuple_bumbers"
   ]
  },
  {
   "cell_type": "code",
   "execution_count": 44,
   "metadata": {},
   "outputs": [
    {
     "name": "stdout",
     "output_type": "stream",
     "text": [
      "Tuple a:  (3, 1, 2, 4)\n",
      "Tuple b:  (5, 7, 6, 8)\n",
      "Tuple c:  (3, 1, 2, 4, 5, 7, 6, 8)\n",
      "Tuple d:  [1, 2, 3, 4, 5, 6, 7, 8]\n",
      "Tuple[3]=  4\n",
      "3 phần tử cuối cùng của tuple d [6, 7, 8]\n"
     ]
    }
   ],
   "source": [
    "tup_a = (3,1,2,4)\n",
    "tup_b = (5,7,6,8)\n",
    "tup_c = tup_a + tup_b\n",
    "tup_d = sorted(tup_c)\n",
    "print(\"Tuple a: \",tup_a)\n",
    "print(\"Tuple b: \",tup_b)\n",
    "print(\"Tuple c: \",tup_c)\n",
    "print(\"Tuple d: \",tup_d)\n",
    "print(\"Tuple[3]= \",tup_d[3])\n",
    "print(\"3 phần tử cuối cùng của tuple d\",tup_d[-3:])"
   ]
  },
  {
   "cell_type": "markdown",
   "metadata": {},
   "source": [
    "7.6 danh_ba"
   ]
  },
  {
   "cell_type": "code",
   "execution_count": 54,
   "metadata": {},
   "outputs": [
    {
     "name": "stdout",
     "output_type": "stream",
     "text": [
      "Danh bạ điện thoại:  {'Johnny': '0989741258', 'Katherine': '0903852147', 'Misu': '0913753951', 'Jack': '0933753654'}\n",
      "Misu có số điện thoại là:  0913753951\n",
      "Danh bạ điện thoại: {'Johnny': '0989741258', 'Katherine': '0903852147', 'Misu': '0913753951', 'Jack': '0933753654', 'Louisa': '0913852258'}\n"
     ]
    }
   ],
   "source": [
    "danh_ba = {\"Johnny\": \"0989741258\",\"Katherine\": \"0903852147\",\"Misu\": \"0913753951\" ,\"Jack\": \"0933753654\"}\n",
    "a= int(input(\"Bạn muốn làm gì: \"))\n",
    "if a == 1:\n",
    "    print(\"Danh bạ điện thoại: \",danh_ba)\n",
    "if a == 2:\n",
    "    ten = input(\"Nhập tên cần tìm: \")\n",
    "    print(f\"{ten} có số điện thoại là: \",danh_ba[ten])\n",
    "if a == 3:\n",
    "    new_name = input(\"Nhập tên: \")\n",
    "    new_phone = input(\"Nhập sđt: \")\n",
    "    danh_ba[new_name] = new_phone\n",
    "    print(\"Danh bạ điện thoại:\", danh_ba)\n",
    "b = int(input(\"Tiếp tục lựa chọn? 1: Có, 0: Không\"))\n",
    "while b == 1:\n",
    "    a= int(input(\"Bạn muốn làm gì: \"))\n",
    "    if a == 1:\n",
    "        print(\"Danh bạ điện thoại: \",danh_ba)\n",
    "    if a == 2:\n",
    "        ten = input(\"Nhập tên cần tìm: \")\n",
    "        print(f\"{ten} có số điện thoại là: \",danh_ba[ten])\n",
    "    if a == 3:\n",
    "        new_name = input(\"Nhập tên: \")\n",
    "        new_phone = input(\"Nhập sđt: \")\n",
    "        danh_ba[new_name] = new_phone\n",
    "        print(\"Danh bạ điện thoại:\", danh_ba)\n",
    "    b = int(input(\"Tiếp tục lựa chọn? 1: Có, 0: Không\"))   "
   ]
  },
  {
   "cell_type": "markdown",
   "metadata": {},
   "source": [
    "7.7 tu_dien"
   ]
  },
  {
   "cell_type": "code",
   "execution_count": 60,
   "metadata": {},
   "outputs": [
    {
     "name": "stdout",
     "output_type": "stream",
     "text": [
      "Xem từ điển  {'cat': 'con mèo', 'dog': 'con chó', 'ant': 'con kiến', 'bear': 'con gấu'}\n",
      "Không tìm thấy trong từ điển\n",
      "Dictionary: {'cat': 'con mèo', 'dog': 'con chó', 'ant': 'con kiến', 'bear': 'con gấu', 'book': 'quyển sách'}\n",
      "Đã xóa từ trong từ điển\n",
      "Dictionary:  {'cat': 'con mèo', 'dog': 'con chó', 'bear': 'con gấu', 'book': 'quyển sách'}\n"
     ]
    }
   ],
   "source": [
    "tu_dien = {\"cat\": \"con mèo\",\"dog\":\"con chó\",\"ant\":\"con kiến\",\"bear\":\"con gấu\"}\n",
    "a= int(input(\"Bạn muốn làm gì: \"))\n",
    "if a == 1:\n",
    "    print(\"Xem từ điển \",tu_dien)\n",
    "if a == 2:\n",
    "    tu = input(\"Nhập từ cần tra: \")\n",
    "    if tu in tu_dien:\n",
    "        print(f\"{tu} có nghĩa là: \",tu_dien[tu])\n",
    "    else:\n",
    "        print(\"Không tìm thấy trong từ điển\")\n",
    "if a == 3:\n",
    "    new_word = input(\"Nhập từ tiếng Anh: \")\n",
    "    new_mean = input(\"Nhập nghĩa Việt: \")\n",
    "    tu_dien[new_word] = new_mean\n",
    "    print(\"Dictionary:\", tu_dien)\n",
    "if a == 4:\n",
    "    del_word = input(\"Nhập từ cần xóa: \")\n",
    "    ask = int(input(\"Bạn có thật sự muốn xóa hay không? 1: Xóa, 0: Không\"))\n",
    "    if ask == 1:\n",
    "        del tu_dien[del_word]\n",
    "        print(\"Đã xóa từ trong từ điển\")\n",
    "        print(\"Dictionary: \",tu_dien)\n",
    "b = int(input(\"Tiếp tục lựa chọn? 1: Có, 0: Không\"))\n",
    "while b == 1:\n",
    "    a= int(input(\"Bạn muốn làm gì: \"))  \n",
    "    if a == 1:\n",
    "       print(\"Xem từ điển \",tu_dien)\n",
    "    if a == 2:\n",
    "        tu = input(\"Nhập từ cần tra: \")\n",
    "        if tu in tu_dien.keys():\n",
    "            print(f\"{tu} có nghĩa là: \",tu_dien[tu])\n",
    "        else:\n",
    "            print(\"Không tìm thấy trong từ điển\")\n",
    "    if a == 3:\n",
    "        new_word = input(\"Nhập từ tiếng Anh: \")\n",
    "        new_mean = input(\"Nhập nghĩa Việt: \")\n",
    "        tu_dien[new_word] = new_mean\n",
    "        print(\"Dictionary:\", tu_dien)\n",
    "    if a == 4:\n",
    "        del_word = input(\"Nhập từ cần xóa: \")\n",
    "        ask = int(input(\"Bạn có thật sự muốn xóa hay không? 1: Xóa, 0: Không\"))\n",
    "        if ask == 1:\n",
    "            del tu_dien[del_word]\n",
    "            print(\"Đã xóa từ trong từ điển\")\n",
    "            print(\"Dictionary: \",tu_dien) \n",
    "    b = int(input(\"Tiếp tục lựa chọn? 1: Có, 0: Không\"))    "
   ]
  },
  {
   "cell_type": "markdown",
   "metadata": {},
   "source": []
  }
 ],
 "metadata": {
  "kernelspec": {
   "display_name": "Python 3",
   "language": "python",
   "name": "python3"
  },
  "language_info": {
   "codemirror_mode": {
    "name": "ipython",
    "version": 3
   },
   "file_extension": ".py",
   "mimetype": "text/x-python",
   "name": "python",
   "nbconvert_exporter": "python",
   "pygments_lexer": "ipython3",
   "version": "3.12.8"
  }
 },
 "nbformat": 4,
 "nbformat_minor": 2
}
