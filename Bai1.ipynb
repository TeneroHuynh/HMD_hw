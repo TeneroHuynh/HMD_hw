{
 "cells": [
  {
   "cell_type": "markdown",
   "metadata": {},
   "source": [
    "1.1"
   ]
  },
  {
   "cell_type": "code",
   "execution_count": 1,
   "metadata": {},
   "outputs": [
    {
     "name": "stdout",
     "output_type": "stream",
     "text": [
      "\n",
      "**    **  ******   **      **      ******\n",
      "**    **  **       **      **      **  **\n",
      "********  *****    **      **      **  **\n",
      "**    **  **       **      **      **  **\n",
      "**    **  ******   ******  ******  ****** \n",
      "\n"
     ]
    }
   ],
   "source": [
    "print('''\n",
    "**    **  ******   **      **      ******\n",
    "**    **  **       **      **      **  **\n",
    "********  *****    **      **      **  **\n",
    "**    **  **       **      **      **  **\n",
    "**    **  ******   ******  ******  ****** \n",
    "''')"
   ]
  },
  {
   "cell_type": "markdown",
   "metadata": {},
   "source": [
    "1.2"
   ]
  },
  {
   "cell_type": "code",
   "execution_count": 7,
   "metadata": {},
   "outputs": [
    {
     "name": "stdout",
     "output_type": "stream",
     "text": [
      "x = 10  y = 5\n",
      "Tổng x+y = 15\n",
      "Hiệu x-y = 5\n",
      "Tích x*y = 50\n",
      "Thương x/y = 2.0\n"
     ]
    }
   ],
   "source": [
    "x,y = 10,5\n",
    "print('x =',x,' y =',y)\n",
    "print('Tổng x+y =',x+y)\n",
    "print('Hiệu x-y =',x-y)\n",
    "print('Tích x*y =',x*y)\n",
    "print('Thương x/y =',x/y)"
   ]
  }
 ],
 "metadata": {
  "kernelspec": {
   "display_name": "Python 3",
   "language": "python",
   "name": "python3"
  },
  "language_info": {
   "codemirror_mode": {
    "name": "ipython",
    "version": 3
   },
   "file_extension": ".py",
   "mimetype": "text/x-python",
   "name": "python",
   "nbconvert_exporter": "python",
   "pygments_lexer": "ipython3",
   "version": "3.12.2"
  }
 },
 "nbformat": 4,
 "nbformat_minor": 2
}
